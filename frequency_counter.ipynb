{
 "cells": [
  {
   "cell_type": "code",
   "execution_count": 11,
   "metadata": {},
   "outputs": [],
   "source": [
    "def frequency_counter_naive(l1,l2):\n",
    "    if(len(l1)!=len(l2)):\n",
    "        return False\n",
    "    for i in l1:\n",
    "        x = i*i\n",
    "        for j in l2:\n",
    "            if x==j:\n",
    "                l2.remove(j)\n",
    "    if(len(l2)==0):\n",
    "        return True\n",
    "frequency_counter_naive(l1=[1,2,3,4,5,6],l2=[1,4,9,16,25])"
   ]
  },
  {
   "cell_type": "code",
   "execution_count": 39,
   "metadata": {},
   "outputs": [],
   "source": [
    "def frequency_counter_optimised(l1,l2):\n",
    "    d1={}\n",
    "    for i in l1:\n",
    "        if i in d1:\n",
    "            d1[i]+=1\n",
    "        else:\n",
    "            d1[i]=1\n",
    "\n",
    "    d2={}\n",
    "    for i in l2:\n",
    "        if i in d2:\n",
    "            d2[i]+=1\n",
    "        else:\n",
    "            d2[i]=1\n",
    "\n",
    "    if len(d1)!=len(d2):\n",
    "        return False\n",
    "\n",
    "    for i in d1:\n",
    "        x=i*i\n",
    "        if d1[i]!=d2[x]:\n",
    "            return False\n",
    "        else:\n",
    "            d2.pop(x)\n",
    "    if len(d2)==0:\n",
    "        return True"
   ]
  },
  {
   "cell_type": "code",
   "execution_count": 44,
   "metadata": {},
   "outputs": [
    {
     "data": {
      "text/plain": [
       "True"
      ]
     },
     "execution_count": 44,
     "metadata": {},
     "output_type": "execute_result"
    }
   ],
   "source": [
    "frequency_counter_optimised(l1=[],l2=[])"
   ]
  },
  {
   "cell_type": "code",
   "execution_count": null,
   "metadata": {},
   "outputs": [],
   "source": []
  }
 ],
 "metadata": {
  "kernelspec": {
   "display_name": "Python 3",
   "language": "python",
   "name": "python3"
  },
  "language_info": {
   "codemirror_mode": {
    "name": "ipython",
    "version": 3
   },
   "file_extension": ".py",
   "mimetype": "text/x-python",
   "name": "python",
   "nbconvert_exporter": "python",
   "pygments_lexer": "ipython3",
   "version": "3.7.6"
  }
 },
 "nbformat": 4,
 "nbformat_minor": 4
}
