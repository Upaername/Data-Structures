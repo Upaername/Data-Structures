{
 "cells": [
  {
   "cell_type": "code",
   "execution_count": 16,
   "metadata": {},
   "outputs": [],
   "source": [
    "def multiple_pointers(l1):\n",
    "    left=0\n",
    "    right=len(l1)-1\n",
    "    while(left<right):\n",
    "        print(left,right)\n",
    "        print(\"element on left indice is\",l1[left])\n",
    "        print(\"element on right indice is\",l1[right])\n",
    "        if l1[left]+l1[right]==0:\n",
    "            return(left,right)\n",
    "            break\n",
    "        elif l1[left]+l1[right]>0:\n",
    "            right-=1\n",
    "        else:\n",
    "            left+=1\n",
    "    return False"
   ]
  },
  {
   "cell_type": "code",
   "execution_count": 19,
   "metadata": {
    "collapsed": true
   },
   "outputs": [
    {
     "name": "stdout",
     "output_type": "stream",
     "text": [
      "0 8\n",
      "element on left indice is -10\n",
      "element on right indice is 8\n",
      "1 8\n",
      "element on left indice is -3\n",
      "element on right indice is 8\n",
      "1 7\n",
      "element on left indice is -3\n",
      "element on right indice is 7\n",
      "1 6\n",
      "element on left indice is -3\n",
      "element on right indice is 6\n",
      "1 5\n",
      "element on left indice is -3\n",
      "element on right indice is 5\n",
      "1 4\n",
      "element on left indice is -3\n",
      "element on right indice is 4\n",
      "1 3\n",
      "element on left indice is -3\n",
      "element on right indice is -1\n",
      "2 3\n",
      "element on left indice is -2\n",
      "element on right indice is -1\n"
     ]
    },
    {
     "data": {
      "text/plain": [
       "False"
      ]
     },
     "execution_count": 19,
     "metadata": {},
     "output_type": "execute_result"
    }
   ],
   "source": [
    "multiple_pointers([-10,-3,-2,-1,4,5,6,7,8])"
   ]
  }
 ],
 "metadata": {
  "kernelspec": {
   "display_name": "Python 3",
   "language": "python",
   "name": "python3"
  },
  "language_info": {
   "codemirror_mode": {
    "name": "ipython",
    "version": 3
   },
   "file_extension": ".py",
   "mimetype": "text/x-python",
   "name": "python",
   "nbconvert_exporter": "python",
   "pygments_lexer": "ipython3",
   "version": "3.7.6"
  }
 },
 "nbformat": 4,
 "nbformat_minor": 4
}
