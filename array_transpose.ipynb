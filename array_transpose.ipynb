{
 "cells": [
  {
   "cell_type": "code",
   "execution_count": 30,
   "metadata": {},
   "outputs": [],
   "source": [
    "import numpy as np"
   ]
  },
  {
   "cell_type": "code",
   "execution_count": 44,
   "metadata": {},
   "outputs": [],
   "source": [
    "x = [[1,2,3,4],\n",
    "     [5,6,7,8],\n",
    "     [9,10,11,12],\n",
    "     [13,14,15,16]]"
   ]
  },
  {
   "cell_type": "code",
   "execution_count": 45,
   "metadata": {},
   "outputs": [
    {
     "data": {
      "text/plain": [
       "array([[ 1,  2,  3,  4],\n",
       "       [ 5,  6,  7,  8],\n",
       "       [ 9, 10, 11, 12],\n",
       "       [13, 14, 15, 16]])"
      ]
     },
     "execution_count": 45,
     "metadata": {},
     "output_type": "execute_result"
    }
   ],
   "source": [
    "inp = np.array(x)\n",
    "inp"
   ]
  },
  {
   "cell_type": "code",
   "execution_count": 33,
   "metadata": {},
   "outputs": [],
   "source": [
    "oup = [[13,9,5,1],\n",
    "       [14,10,6,2],\n",
    "       [15,11,7,3],\n",
    "       [16,12,8,4]]"
   ]
  },
  {
   "cell_type": "code",
   "execution_count": 136,
   "metadata": {},
   "outputs": [],
   "source": [
    "x = np.array([range(1,6),range(6,11),range(11,16),range(16,21),range(21,26)])"
   ]
  },
  {
   "cell_type": "code",
   "execution_count": 35,
   "metadata": {},
   "outputs": [
    {
     "data": {
      "text/plain": [
       "array([[ 1,  2,  3,  4,  5],\n",
       "       [ 6,  7,  8,  9, 10],\n",
       "       [11, 12, 13, 14, 15],\n",
       "       [16, 17, 18, 19, 20],\n",
       "       [21, 22, 23, 24, 25]])"
      ]
     },
     "execution_count": 35,
     "metadata": {},
     "output_type": "execute_result"
    }
   ],
   "source": [
    "x"
   ]
  },
  {
   "cell_type": "code",
   "execution_count": 36,
   "metadata": {},
   "outputs": [
    {
     "data": {
      "text/plain": [
       "[[21, 16, 11, 6, 1],\n",
       " [22, 17, 12, 7, 2],\n",
       " [23, 18, 13, 8, 3],\n",
       " [24, 19, 14, 9, 4],\n",
       " [25, 20, 15, 10, 5]]"
      ]
     },
     "execution_count": 36,
     "metadata": {},
     "output_type": "execute_result"
    }
   ],
   "source": [
    "result[[21,16,11,6,1],\n",
    "       [22,17,12,7,2],\n",
    "       [23,18,13,8,3],\n",
    "       [24,19,14,9,4],\n",
    "       [25,20,15,10,5]]"
   ]
  },
  {
   "cell_type": "code",
   "execution_count": 37,
   "metadata": {},
   "outputs": [
    {
     "data": {
      "text/plain": [
       "[[1, 2, 3, 4, 5],\n",
       " [6, 7, 8, 9, 10],\n",
       " [11, 12, 13, 14, 15],\n",
       " [16, 17, 18, 19, 20],\n",
       " [21, 22, 23, 24, 25]]"
      ]
     },
     "execution_count": 37,
     "metadata": {},
     "output_type": "execute_result"
    }
   ],
   "source": [
    "[[ 1,  2,  3,  4,  5],\n",
    " [ 6,  7,  8,  9, 10],\n",
    " [11, 12, 13, 14, 15],\n",
    " [16, 17, 18, 19, 20],\n",
    " [21, 22, 23, 24, 25]\n",
    "]"
   ]
  },
  {
   "cell_type": "code",
   "execution_count": 42,
   "metadata": {},
   "outputs": [],
   "source": [
    "n = len(x[:,:])"
   ]
  },
  {
   "cell_type": "code",
   "execution_count": null,
   "metadata": {},
   "outputs": [],
   "source": [
    "i+j+i+j=20"
   ]
  },
  {
   "cell_type": "markdown",
   "metadata": {},
   "source": [
    "Step 1 : add to j\n",
    "a. if (j+n)==n then i=i, j=j+n\n",
    "b. elif j+n>n then i=j and j=n\n",
    "\n",
    "Step 2 : add to i\n",
    "a. if (i+n)==n then i=n, j=n\n",
    "b. elif i+n>n then j=n-i and i=n\n",
    "\n",
    "Step 3 : subtract to j\n",
    "a. if j-n=0 then i=n,j=0\n",
    "b. if j-n<0 then i=j,j=0\n",
    "\n",
    "step4 : subtract to i\n",
    "a. if j==0 and i!=0 then j=(n-i), i=0\n",
    "\n",
    "    \n",
    "  step1 step2 step3 step4\n",
    "00 -> 04 -> 44 -> 40 -> 00\n",
    "01 -> 14 -> 43 -> 30 -> 01\n",
    "02 -> 24 -> 42 -> 20 -> 02\n",
    "03 -> 34 -> 41 -> 10 -> 03"
   ]
  },
  {
   "cell_type": "code",
   "execution_count": 46,
   "metadata": {},
   "outputs": [
    {
     "data": {
      "text/plain": [
       "[[1, 2, 3, 4], [5, 6, 7, 8], [9, 10, 11, 12], [13, 14, 15, 16]]"
      ]
     },
     "execution_count": 46,
     "metadata": {},
     "output_type": "execute_result"
    }
   ],
   "source": [
    "x\n",
    "[[1, 2, 3, 4], \n",
    " [5, 6, 7, 8], \n",
    " [9, 10, 11, 12], \n",
    " [13, 14, 15, 16]]\n"
   ]
  },
  {
   "cell_type": "code",
   "execution_count": 54,
   "metadata": {},
   "outputs": [
    {
     "data": {
      "text/plain": [
       "array([[ 1,  2,  3,  4],\n",
       "       [ 5,  6,  7,  8],\n",
       "       [ 9, 10, 11, 12],\n",
       "       [13, 14, 15, 16]])"
      ]
     },
     "execution_count": 54,
     "metadata": {},
     "output_type": "execute_result"
    }
   ],
   "source": [
    "inp"
   ]
  },
  {
   "cell_type": "code",
   "execution_count": null,
   "metadata": {},
   "outputs": [],
   "source": []
  },
  {
   "cell_type": "code",
   "execution_count": 61,
   "metadata": {},
   "outputs": [],
   "source": [
    "n = len(inp)"
   ]
  },
  {
   "cell_type": "code",
   "execution_count": 62,
   "metadata": {},
   "outputs": [
    {
     "data": {
      "text/plain": [
       "4"
      ]
     },
     "execution_count": 62,
     "metadata": {},
     "output_type": "execute_result"
    }
   ],
   "source": [
    "n"
   ]
  },
  {
   "cell_type": "code",
   "execution_count": 63,
   "metadata": {},
   "outputs": [
    {
     "data": {
      "text/plain": [
       "array([[ 6,  7],\n",
       "       [10, 11]])"
      ]
     },
     "execution_count": 63,
     "metadata": {},
     "output_type": "execute_result"
    }
   ],
   "source": [
    "inp[1:n-1,1:n-1]\n"
   ]
  },
  {
   "cell_type": "code",
   "execution_count": null,
   "metadata": {},
   "outputs": [],
   "source": []
  },
  {
   "cell_type": "code",
   "execution_count": null,
   "metadata": {},
   "outputs": [],
   "source": []
  },
  {
   "cell_type": "code",
   "execution_count": null,
   "metadata": {},
   "outputs": [],
   "source": []
  },
  {
   "cell_type": "markdown",
   "metadata": {},
   "source": [
    "======================= writing function ==========================="
   ]
  },
  {
   "cell_type": "code",
   "execution_count": 64,
   "metadata": {},
   "outputs": [],
   "source": [
    "x = np.array([range(1,6),range(6,11),range(11,16),range(16,21),range(21,26)])"
   ]
  },
  {
   "cell_type": "code",
   "execution_count": 65,
   "metadata": {},
   "outputs": [
    {
     "data": {
      "text/plain": [
       "array([[ 1,  2,  3,  4,  5],\n",
       "       [ 6,  7,  8,  9, 10],\n",
       "       [11, 12, 13, 14, 15],\n",
       "       [16, 17, 18, 19, 20],\n",
       "       [21, 22, 23, 24, 25]])"
      ]
     },
     "execution_count": 65,
     "metadata": {},
     "output_type": "execute_result"
    }
   ],
   "source": [
    "x"
   ]
  },
  {
   "cell_type": "code",
   "execution_count": null,
   "metadata": {},
   "outputs": [],
   "source": [
    "result=[[21,16,11,6,1],\n",
    "       [22,17,12,7,2],\n",
    "       [23,18,13,8,3],\n",
    "       [24,19,14,9,4],\n",
    "       [25,20,15,10,5]]"
   ]
  },
  {
   "cell_type": "markdown",
   "metadata": {},
   "source": [
    "Algo :\n",
    "    \n",
    "Step 1 : add to j\n",
    "a. if (j+n)==n then i=i, j=j+n\n",
    "b. elif j+n>n then i=j and j=n\n",
    "\n",
    "Step 2 : add to i\n",
    "a. if (i+n)==n then i=n, j=n\n",
    "b. elif i+n>n then j=n-i and i=n\n",
    "\n",
    "Step 3 : subtract to j\n",
    "a. if j-n=0 then i=n,j=0\n",
    "b. if j-n<0 then i=j,j=0\n",
    "\n",
    "step4 : subtract to i\n",
    "a. if j==0 and i!=0 then j=(n-i), i=0\n",
    "\n",
    "    \n",
    "  step1 step2 step3 step4\n",
    "00 -> 04 -> 44 -> 40 -> 00\n",
    "01 -> 14 -> 43 -> 30 -> 01\n",
    "02 -> 24 -> 42 -> 20 -> 02\n",
    "03 -> 34 -> 41 -> 10 -> 03"
   ]
  },
  {
   "cell_type": "code",
   "execution_count": 258,
   "metadata": {},
   "outputs": [],
   "source": [
    "x = np.array([range(1,6),range(6,11),range(11,16),range(16,21),range(21,26)])"
   ]
  },
  {
   "cell_type": "code",
   "execution_count": 256,
   "metadata": {},
   "outputs": [
    {
     "data": {
      "text/plain": [
       "5"
      ]
     },
     "execution_count": 256,
     "metadata": {},
     "output_type": "execute_result"
    }
   ],
   "source": [
    "n=len(x)\n",
    "n"
   ]
  },
  {
   "cell_type": "code",
   "execution_count": 257,
   "metadata": {},
   "outputs": [
    {
     "data": {
      "text/plain": [
       "array([[ 1,  2,  3,  4,  5],\n",
       "       [ 6,  7,  8,  9, 10],\n",
       "       [11, 12, 13, 14, 15],\n",
       "       [16, 17, 18, 19, 20],\n",
       "       [21, 22, 23, 24, 25]])"
      ]
     },
     "execution_count": 257,
     "metadata": {},
     "output_type": "execute_result"
    }
   ],
   "source": [
    "x"
   ]
  },
  {
   "cell_type": "code",
   "execution_count": 259,
   "metadata": {},
   "outputs": [],
   "source": [
    "n=len(x)\n",
    "start=0\n",
    "end=n\n",
    "x = x[start:end,start:end]\n",
    "n=len(x)\n",
    "\n",
    "#i and j are the co-ordinates of the matrix\n",
    "#temp1 and temp2 are the value holders of the matrix\n",
    "\n",
    "source_ele=x[0,0]\n",
    "\n",
    "for j in range(0,n-1):\n",
    "    i=0\n",
    "    x = x[start:end,start:end]\n",
    "    n=len(x)\n",
    "    \n",
    "    source_ele = x[i,j]\n",
    "\n",
    "    def cycle1_add_to_j(i,j,x):\n",
    "        if(j+n)==n:\n",
    "            i,j=i,j+n-1\n",
    "        elif(j+n>n):\n",
    "            i=j\n",
    "            j=n-1\n",
    "        return i,j\n",
    "    i,j=cycle1_add_to_j(i,j,x)\n",
    "    temp1=x[i,j]\n",
    "    x[i,j]=source_ele\n",
    "    source_ele=temp1\n",
    "\n",
    "    def cycle2_add_to_i(i,j,x):\n",
    "        if i+n==n:\n",
    "            i,j=n-1,n-1\n",
    "        elif i+n>n:\n",
    "            j=n-1-i\n",
    "            i=n-1\n",
    "\n",
    "        return i,j\n",
    "    i,j=cycle2_add_to_i(i,j,x)\n",
    "    temp1=x[i,j]\n",
    "    x[i,j]=source_ele\n",
    "    source_ele=temp1\n",
    "\n",
    "    def cycle3_subtract_to_j(i,j,x):\n",
    "        if j-n==0:\n",
    "            i=n\n",
    "            j=0\n",
    "        elif j-n<0:\n",
    "            i=j\n",
    "            j=0\n",
    "        return i,j\n",
    "    i,j=cycle3_subtract_to_j(i,j,x)\n",
    "    temp1=x[i,j]\n",
    "    x[i,j]=source_ele\n",
    "    source_ele=temp1\n",
    "\n",
    "    def cycle4_subtract_to_i(i,j,x):\n",
    "        if j==0 and i!=0:\n",
    "            j=n-1-i\n",
    "            i=0\n",
    "        return i,j\n",
    "    i,j=cycle4_subtract_to_i(i,j,x)\n",
    "    temp1=x[i,j]\n",
    "    x[i,j]=source_ele\n",
    "    source_ele=temp1"
   ]
  },
  {
   "cell_type": "code",
   "execution_count": 260,
   "metadata": {},
   "outputs": [
    {
     "data": {
      "text/plain": [
       "array([[21, 16, 11,  6,  1],\n",
       "       [22,  7,  8,  9,  2],\n",
       "       [23, 12, 13, 14,  3],\n",
       "       [24, 17, 18, 19,  4],\n",
       "       [25, 20, 15, 10,  5]])"
      ]
     },
     "execution_count": 260,
     "metadata": {},
     "output_type": "execute_result"
    }
   ],
   "source": [
    "x"
   ]
  },
  {
   "cell_type": "markdown",
   "metadata": {},
   "source": [
    "========================================================================"
   ]
  },
  {
   "cell_type": "code",
   "execution_count": 381,
   "metadata": {},
   "outputs": [],
   "source": [
    "x = np.array([range(1,6),range(6,11),range(11,16),range(16,21),range(21,26)])"
   ]
  },
  {
   "cell_type": "code",
   "execution_count": 382,
   "metadata": {},
   "outputs": [
    {
     "data": {
      "text/plain": [
       "5"
      ]
     },
     "execution_count": 382,
     "metadata": {},
     "output_type": "execute_result"
    }
   ],
   "source": [
    "n=len(x)\n",
    "n"
   ]
  },
  {
   "cell_type": "code",
   "execution_count": 383,
   "metadata": {},
   "outputs": [],
   "source": [
    "d1={}"
   ]
  },
  {
   "cell_type": "code",
   "execution_count": 384,
   "metadata": {},
   "outputs": [
    {
     "name": "stdout",
     "output_type": "stream",
     "text": [
      "start and end are 0 5\n",
      "[[21  2  3  4  1]\n",
      " [ 6  7  8  9 10]\n",
      " [11 12 13 14 15]\n",
      " [16 17 18 19 20]\n",
      " [25 22 23 24  5]]\n",
      "[[21 16  3  4  1]\n",
      " [ 6  7  8  9  2]\n",
      " [11 12 13 14 15]\n",
      " [24 17 18 19 20]\n",
      " [25 22 23 10  5]]\n",
      "[[21 16 11  4  1]\n",
      " [ 6  7  8  9  2]\n",
      " [23 12 13 14  3]\n",
      " [24 17 18 19 20]\n",
      " [25 22 15 10  5]]\n",
      "[[21 16 11  6  1]\n",
      " [22  7  8  9  2]\n",
      " [23 12 13 14  3]\n",
      " [24 17 18 19  4]\n",
      " [25 20 15 10  5]]\n",
      "start and end are 1 4\n",
      "[[17  8  7]\n",
      " [12 13 14]\n",
      " [19 18  9]]\n",
      "[[17 12  7]\n",
      " [18 13  8]\n",
      " [19 14  9]]\n",
      "[[17 12  7]\n",
      " [18 13  8]\n",
      " [19 14  9]]\n"
     ]
    }
   ],
   "source": [
    "#1st iteration\n",
    "n=len(x)\n",
    "\n",
    "start=0\n",
    "end=n\n",
    "while start<end-1:\n",
    "    print(\"start and end are\",start,end)\n",
    "    x = x[start:end,start:end]\n",
    "    n=len(x)\n",
    "\n",
    "#i and j are the co-ordinates of the matrix\n",
    "#temp1 and temp2 are the value holders of the matrix\n",
    "\n",
    "    source_ele=x[0,0]\n",
    "\n",
    "    for j in range(0,n-1):\n",
    "        i=0\n",
    "        source_ele = x[i,j]\n",
    "\n",
    "        def cycle1_add_to_j(i,j,x):\n",
    "            if(j+n)==n:\n",
    "                i,j=i,j+n-1\n",
    "            elif(j+n>n):\n",
    "                i=j\n",
    "                j=n-1\n",
    "            return i,j\n",
    "        i,j=cycle1_add_to_j(i,j,x)\n",
    "        temp1=x[i,j]\n",
    "        x[i,j]=source_ele\n",
    "        source_ele=temp1\n",
    "\n",
    "        def cycle2_add_to_i(i,j,x):\n",
    "            if i+n==n:\n",
    "                i,j=n-1,n-1\n",
    "            elif i+n>n:\n",
    "                j=n-1-i\n",
    "                i=n-1\n",
    "\n",
    "            return i,j\n",
    "        i,j=cycle2_add_to_i(i,j,x)\n",
    "        temp1=x[i,j]\n",
    "        x[i,j]=source_ele\n",
    "        source_ele=temp1\n",
    "\n",
    "        def cycle3_subtract_to_j(i,j,x):\n",
    "            if j-n==0:\n",
    "                i=n\n",
    "                j=0\n",
    "            elif j-n<0:\n",
    "                i=j\n",
    "                j=0\n",
    "            return i,j\n",
    "        i,j=cycle3_subtract_to_j(i,j,x)\n",
    "        temp1=x[i,j]\n",
    "        x[i,j]=source_ele\n",
    "        source_ele=temp1\n",
    "\n",
    "        def cycle4_subtract_to_i(i,j,x):\n",
    "            if j==0 and i!=0:\n",
    "                j=n-1-i\n",
    "                i=0\n",
    "            return i,j\n",
    "        i,j=cycle4_subtract_to_i(i,j,x)\n",
    "        temp1=x[i,j]\n",
    "        x[i,j]=source_ele\n",
    "        source_ele=temp1\n",
    "        print(x)\n",
    "    d1[n]=x\n",
    "    start+=1\n",
    "    end-=1\n",
    "print(x)"
   ]
  },
  {
   "cell_type": "code",
   "execution_count": 385,
   "metadata": {},
   "outputs": [
    {
     "data": {
      "text/plain": [
       "{5: array([[21, 16, 11,  6,  1],\n",
       "        [22, 17, 12,  7,  2],\n",
       "        [23, 18, 13,  8,  3],\n",
       "        [24, 19, 14,  9,  4],\n",
       "        [25, 20, 15, 10,  5]]),\n",
       " 3: array([[17, 12,  7],\n",
       "        [18, 13,  8],\n",
       "        [19, 14,  9]])}"
      ]
     },
     "execution_count": 385,
     "metadata": {},
     "output_type": "execute_result"
    }
   ],
   "source": [
    "d1"
   ]
  },
  {
   "cell_type": "code",
   "execution_count": 355,
   "metadata": {},
   "outputs": [
    {
     "data": {
      "text/plain": [
       "4"
      ]
     },
     "execution_count": 355,
     "metadata": {},
     "output_type": "execute_result"
    }
   ],
   "source": [
    "end"
   ]
  },
  {
   "cell_type": "code",
   "execution_count": 356,
   "metadata": {},
   "outputs": [
    {
     "data": {
      "text/plain": [
       "{5: array([[21, 16, 11,  6,  1],\n",
       "        [22,  7,  8,  9,  2],\n",
       "        [23, 12, 13, 14,  3],\n",
       "        [24, 17, 18, 19,  4],\n",
       "        [25, 20, 15, 10,  5]])}"
      ]
     },
     "execution_count": 356,
     "metadata": {},
     "output_type": "execute_result"
    }
   ],
   "source": [
    "d1"
   ]
  },
  {
   "cell_type": "code",
   "execution_count": 357,
   "metadata": {},
   "outputs": [
    {
     "data": {
      "text/plain": [
       "array([[21, 16, 11,  6,  1],\n",
       "       [22,  7,  8,  9,  2],\n",
       "       [23, 12, 13, 14,  3],\n",
       "       [24, 17, 18, 19,  4],\n",
       "       [25, 20, 15, 10,  5]])"
      ]
     },
     "execution_count": 357,
     "metadata": {},
     "output_type": "execute_result"
    }
   ],
   "source": [
    "x"
   ]
  },
  {
   "cell_type": "code",
   "execution_count": 358,
   "metadata": {},
   "outputs": [],
   "source": [
    "n=len(x)"
   ]
  },
  {
   "cell_type": "code",
   "execution_count": 359,
   "metadata": {},
   "outputs": [
    {
     "name": "stdout",
     "output_type": "stream",
     "text": [
      "i and j are 0 0\n",
      "x is [[ 7  8  9]\n",
      " [12 13 14]\n",
      " [17 18 19]]\n",
      "n is  3\n",
      "i and j are 0 1\n",
      "x is [[17  8  7]\n",
      " [12 13 14]\n",
      " [19 18  9]]\n",
      "n is  3\n"
     ]
    }
   ],
   "source": [
    "#1st iteration\n",
    "n=len(x)\n",
    "\n",
    "x = x[start:end,start:end]\n",
    "n=len(x)\n",
    "#i and j are the co-ordinates of the matrix\n",
    "#temp1 and temp2 are the value holders of the matrix\n",
    "\n",
    "source_ele=result[0,0]\n",
    "\n",
    "for j in range(0,n-1):\n",
    "    print(\"i and j are\",i,j)\n",
    "    print(\"x is\",x)\n",
    "    print(\"n is \",n)\n",
    "    i=0\n",
    "    \n",
    "    source_ele = x[i,j]\n",
    "\n",
    "    def cycle1_add_to_j(i,j,x):\n",
    "        if(j+n)==n:\n",
    "            i,j=i,j+n-1\n",
    "        elif(j+n>n):\n",
    "            i=j\n",
    "            j=n-1\n",
    "        return i,j\n",
    "    i,j=cycle1_add_to_j(i,j,x)\n",
    "    temp1=x[i,j]\n",
    "    x[i,j]=source_ele\n",
    "    source_ele=temp1\n",
    "\n",
    "    def cycle2_add_to_i(i,j,x):\n",
    "        if i+n==n:\n",
    "            i,j=n-1,n-1\n",
    "        elif i+n>n:\n",
    "            j=n-1-i\n",
    "            i=n-1\n",
    "\n",
    "        return i,j\n",
    "    i,j=cycle2_add_to_i(i,j,x)\n",
    "    temp1=x[i,j]\n",
    "    x[i,j]=source_ele\n",
    "    source_ele=temp1\n",
    "\n",
    "    def cycle3_subtract_to_j(i,j,x):\n",
    "        if j-n==0:\n",
    "            i=n\n",
    "            j=0\n",
    "        elif j-n<0:\n",
    "            i=j\n",
    "            j=0\n",
    "        return i,j\n",
    "    i,j=cycle3_subtract_to_j(i,j,x)\n",
    "    temp1=x[i,j]\n",
    "    x[i,j]=source_ele\n",
    "    source_ele=temp1\n",
    "\n",
    "    def cycle4_subtract_to_i(i,j,x):\n",
    "        if j==0 and i!=0:\n",
    "            j=n-1-i\n",
    "            i=0\n",
    "        return i,j\n",
    "    i,j=cycle4_subtract_to_i(i,j,x)\n",
    "    temp1=x[i,j]\n",
    "    x[i,j]=source_ele\n",
    "    source_ele=temp1\n",
    "    d1[n]=x\n",
    "    \n",
    "start+=1\n",
    "end-=1"
   ]
  },
  {
   "cell_type": "code",
   "execution_count": 366,
   "metadata": {},
   "outputs": [
    {
     "data": {
      "text/plain": [
       "array([[ 1,  2,  3,  4,  5],\n",
       "       [ 6,  7,  8,  9, 10],\n",
       "       [11, 12, 13, 14, 15],\n",
       "       [16, 17, 18, 19, 20],\n",
       "       [21, 22, 23, 24, 25]])"
      ]
     },
     "execution_count": 366,
     "metadata": {},
     "output_type": "execute_result"
    }
   ],
   "source": [
    "x = np.array([range(1,6),range(6,11),range(11,16),range(16,21),range(21,26)])\n",
    "x"
   ]
  },
  {
   "cell_type": "code",
   "execution_count": 361,
   "metadata": {},
   "outputs": [
    {
     "data": {
      "text/plain": [
       "{5: array([[21, 16, 11,  6,  1],\n",
       "        [22, 17, 12,  7,  2],\n",
       "        [23, 18, 13,  8,  3],\n",
       "        [24, 19, 14,  9,  4],\n",
       "        [25, 20, 15, 10,  5]]),\n",
       " 3: array([[17, 12,  7],\n",
       "        [18, 13,  8],\n",
       "        [19, 14,  9]])}"
      ]
     },
     "execution_count": 361,
     "metadata": {},
     "output_type": "execute_result"
    }
   ],
   "source": [
    "d1"
   ]
  },
  {
   "cell_type": "code",
   "execution_count": 362,
   "metadata": {},
   "outputs": [
    {
     "data": {
      "text/plain": [
       "2"
      ]
     },
     "execution_count": 362,
     "metadata": {},
     "output_type": "execute_result"
    }
   ],
   "source": [
    "start"
   ]
  },
  {
   "cell_type": "code",
   "execution_count": 363,
   "metadata": {},
   "outputs": [
    {
     "data": {
      "text/plain": [
       "3"
      ]
     },
     "execution_count": 363,
     "metadata": {},
     "output_type": "execute_result"
    }
   ],
   "source": [
    "end"
   ]
  },
  {
   "cell_type": "code",
   "execution_count": null,
   "metadata": {},
   "outputs": [],
   "source": [
    "when start>end, it is solved!"
   ]
  },
  {
   "cell_type": "code",
   "execution_count": 364,
   "metadata": {},
   "outputs": [],
   "source": [
    "y = d1[5]"
   ]
  },
  {
   "cell_type": "code",
   "execution_count": 365,
   "metadata": {},
   "outputs": [
    {
     "data": {
      "text/plain": [
       "array([[21, 16, 11,  6,  1],\n",
       "       [22, 17, 12,  7,  2],\n",
       "       [23, 18, 13,  8,  3],\n",
       "       [24, 19, 14,  9,  4],\n",
       "       [25, 20, 15, 10,  5]])"
      ]
     },
     "execution_count": 365,
     "metadata": {},
     "output_type": "execute_result"
    }
   ],
   "source": [
    "y"
   ]
  },
  {
   "cell_type": "code",
   "execution_count": null,
   "metadata": {},
   "outputs": [],
   "source": []
  },
  {
   "cell_type": "code",
   "execution_count": 307,
   "metadata": {},
   "outputs": [
    {
     "data": {
      "text/plain": [
       "array([[21, 16, 11,  6,  1],\n",
       "       [22,  7,  8,  9,  2],\n",
       "       [23, 12, 13, 14,  3],\n",
       "       [24, 17, 18, 19,  4],\n",
       "       [25, 20, 15, 10,  5]])"
      ]
     },
     "execution_count": 307,
     "metadata": {},
     "output_type": "execute_result"
    }
   ],
   "source": [
    "x"
   ]
  },
  {
   "cell_type": "code",
   "execution_count": 305,
   "metadata": {},
   "outputs": [
    {
     "data": {
      "text/plain": [
       "array([[ 1,  2,  3,  4,  5],\n",
       "       [ 6,  7,  8,  9, 10],\n",
       "       [11, 12, 13, 14, 15],\n",
       "       [16, 17, 18, 19, 20],\n",
       "       [21, 22, 23, 24, 25]])"
      ]
     },
     "execution_count": 305,
     "metadata": {},
     "output_type": "execute_result"
    }
   ],
   "source": [
    "x"
   ]
  },
  {
   "cell_type": "code",
   "execution_count": 288,
   "metadata": {},
   "outputs": [
    {
     "name": "stdout",
     "output_type": "stream",
     "text": [
      "[[ 7  8  9]\n",
      " [12 13 14]\n",
      " [17 18 19]]\n"
     ]
    },
    {
     "data": {
      "text/plain": [
       "array([[ 7,  8,  9],\n",
       "       [12, 13, 14],\n",
       "       [17, 18, 19]])"
      ]
     },
     "execution_count": 288,
     "metadata": {},
     "output_type": "execute_result"
    }
   ],
   "source": [
    "n=len(x)\n",
    "\n",
    "start=0+1\n",
    "end=n-1\n",
    "x = x[start:end,start:end]\n",
    "print(x)\n",
    "np.array(x)"
   ]
  },
  {
   "cell_type": "code",
   "execution_count": 298,
   "metadata": {},
   "outputs": [
    {
     "name": "stdout",
     "output_type": "stream",
     "text": [
      "[[ 7  8  9]\n",
      " [12 13 14]\n",
      " [17 18 19]]\n"
     ]
    },
    {
     "ename": "IndexError",
     "evalue": "index 1 is out of bounds for axis 1 with size 1",
     "output_type": "error",
     "traceback": [
      "\u001b[1;31m---------------------------------------------------------------------------\u001b[0m",
      "\u001b[1;31mIndexError\u001b[0m                                Traceback (most recent call last)",
      "\u001b[1;32m<ipython-input-298-8ad56f98aa93>\u001b[0m in \u001b[0;36m<module>\u001b[1;34m\u001b[0m\n\u001b[0;32m     16\u001b[0m     \u001b[0mn\u001b[0m\u001b[1;33m=\u001b[0m\u001b[0mlen\u001b[0m\u001b[1;33m(\u001b[0m\u001b[0mx\u001b[0m\u001b[1;33m)\u001b[0m\u001b[1;33m\u001b[0m\u001b[1;33m\u001b[0m\u001b[0m\n\u001b[0;32m     17\u001b[0m \u001b[1;33m\u001b[0m\u001b[0m\n\u001b[1;32m---> 18\u001b[1;33m     \u001b[0msource_ele\u001b[0m \u001b[1;33m=\u001b[0m \u001b[0mx\u001b[0m\u001b[1;33m[\u001b[0m\u001b[0mi\u001b[0m\u001b[1;33m,\u001b[0m\u001b[0mj\u001b[0m\u001b[1;33m]\u001b[0m\u001b[1;33m\u001b[0m\u001b[1;33m\u001b[0m\u001b[0m\n\u001b[0m\u001b[0;32m     19\u001b[0m \u001b[1;33m\u001b[0m\u001b[0m\n\u001b[0;32m     20\u001b[0m     \u001b[1;32mdef\u001b[0m \u001b[0mcycle1_add_to_j\u001b[0m\u001b[1;33m(\u001b[0m\u001b[0mi\u001b[0m\u001b[1;33m,\u001b[0m\u001b[0mj\u001b[0m\u001b[1;33m,\u001b[0m\u001b[0mx\u001b[0m\u001b[1;33m)\u001b[0m\u001b[1;33m:\u001b[0m\u001b[1;33m\u001b[0m\u001b[1;33m\u001b[0m\u001b[0m\n",
      "\u001b[1;31mIndexError\u001b[0m: index 1 is out of bounds for axis 1 with size 1"
     ]
    }
   ],
   "source": [
    "#2nd iteration\n",
    "\n",
    "n=len(x)\n",
    "\n",
    "start=0+1\n",
    "end=n-1\n",
    "x = x[start:end,start:end]\n",
    "x = np.array(x)\n",
    "print(x)\n",
    "\n",
    "source_ele=result[0,0]\n",
    "\n",
    "for j in range(0,n-1):\n",
    "    i=0\n",
    "    x = x[start:end,start:end]\n",
    "    n=len(x)\n",
    "    \n",
    "    source_ele = x[i,j]\n",
    "\n",
    "    def cycle1_add_to_j(i,j,x):\n",
    "        if(j+n)==n:\n",
    "            i,j=i,j+n-1\n",
    "        elif(j+n>n):\n",
    "            i=j\n",
    "            j=n-1\n",
    "        return i,j\n",
    "    i,j=cycle1_add_to_j(i,j,x)\n",
    "    temp1=x[i,j]\n",
    "    x[i,j]=source_ele\n",
    "    source_ele=temp1\n",
    "\n",
    "    def cycle2_add_to_i(i,j,x):\n",
    "        if i+n==n:\n",
    "            i,j=n-1,n-1\n",
    "        elif i+n>n:\n",
    "            j=n-1-i\n",
    "            i=n-1\n",
    "\n",
    "        return i,j\n",
    "    i,j=cycle2_add_to_i(i,j,x)\n",
    "    temp1=x[i,j]\n",
    "    x[i,j]=source_ele\n",
    "    source_ele=temp1\n",
    "\n",
    "    def cycle3_subtract_to_j(i,j,x):\n",
    "        if j-n==0:\n",
    "            i=n\n",
    "            j=0\n",
    "        elif j-n<0:\n",
    "            i=j\n",
    "            j=0\n",
    "        return i,j\n",
    "    i,j=cycle3_subtract_to_j(i,j,x)\n",
    "    temp1=x[i,j]\n",
    "    x[i,j]=source_ele\n",
    "    source_ele=temp1\n",
    "\n",
    "    def cycle4_subtract_to_i(i,j,x):\n",
    "        if j==0 and i!=0:\n",
    "            j=n-1-i\n",
    "            i=0\n",
    "        return i,j\n",
    "    i,j=cycle4_subtract_to_i(i,j,x)\n",
    "    temp1=x[i,j]\n",
    "    x[i,j]=source_ele\n",
    "    source_ele=temp1"
   ]
  },
  {
   "cell_type": "code",
   "execution_count": 294,
   "metadata": {},
   "outputs": [
    {
     "data": {
      "text/plain": [
       "array([[21, 16, 11,  6,  1],\n",
       "       [22,  7,  8,  9,  2],\n",
       "       [23, 12, 13, 14,  3],\n",
       "       [24, 17, 18, 19,  4],\n",
       "       [25, 20, 15, 10,  5]])"
      ]
     },
     "execution_count": 294,
     "metadata": {},
     "output_type": "execute_result"
    }
   ],
   "source": [
    "result"
   ]
  },
  {
   "cell_type": "code",
   "execution_count": 273,
   "metadata": {},
   "outputs": [
    {
     "data": {
      "text/plain": [
       "array([[21, 16, 11,  6,  1],\n",
       "       [22,  7,  8,  9,  2],\n",
       "       [23, 12, 13, 14,  3],\n",
       "       [24, 17, 18, 19,  4],\n",
       "       [25, 20, 15, 10,  5]])"
      ]
     },
     "execution_count": 273,
     "metadata": {},
     "output_type": "execute_result"
    }
   ],
   "source": [
    "x"
   ]
  }
 ],
 "metadata": {
  "kernelspec": {
   "display_name": "Python 3",
   "language": "python",
   "name": "python3"
  },
  "language_info": {
   "codemirror_mode": {
    "name": "ipython",
    "version": 3
   },
   "file_extension": ".py",
   "mimetype": "text/x-python",
   "name": "python",
   "nbconvert_exporter": "python",
   "pygments_lexer": "ipython3",
   "version": "3.7.6"
  }
 },
 "nbformat": 4,
 "nbformat_minor": 4
}
